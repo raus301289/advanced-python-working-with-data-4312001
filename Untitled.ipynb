{
 "cells": [
  {
   "cell_type": "code",
   "execution_count": 1,
   "id": "687adef5-179d-4ced-af7f-5b536403b4ce",
   "metadata": {},
   "outputs": [],
   "source": [
    "values = [2,5,7.0,8.8]"
   ]
  },
  {
   "cell_type": "code",
   "execution_count": 6,
   "id": "52147fc3-17a0-41cb-b610-dcd470562efb",
   "metadata": {},
   "outputs": [
    {
     "name": "stdout",
     "output_type": "stream",
     "text": [
      "The minimum values is: 2\n"
     ]
    }
   ],
   "source": [
    "print(\"The minimum values is:\", min(values))"
   ]
  },
  {
   "cell_type": "code",
   "execution_count": null,
   "id": "7a3b7a34-db79-4db4-be07-fbeed52bcb92",
   "metadata": {},
   "outputs": [],
   "source": []
  },
  {
   "cell_type": "code",
   "execution_count": null,
   "id": "2337cc29-5585-4430-bd1e-9c3dba7f564b",
   "metadata": {},
   "outputs": [],
   "source": []
  }
 ],
 "metadata": {
  "kernelspec": {
   "display_name": "Python 3 (ipykernel)",
   "language": "python",
   "name": "python3"
  },
  "language_info": {
   "codemirror_mode": {
    "name": "ipython",
    "version": 3
   },
   "file_extension": ".py",
   "mimetype": "text/x-python",
   "name": "python",
   "nbconvert_exporter": "python",
   "pygments_lexer": "ipython3",
   "version": "3.12.1"
  }
 },
 "nbformat": 4,
 "nbformat_minor": 5
}
